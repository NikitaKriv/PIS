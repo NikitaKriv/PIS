{
  "nbformat": 4,
  "nbformat_minor": 0,
  "metadata": {
    "colab": {
      "name": "Pis_dz.ipyn\"",
      "provenance": []
    },
    "kernelspec": {
      "name": "python3",
      "display_name": "Python 3"
    },
    "language_info": {
      "name": "python"
    },
    "widgets": {
      "application/vnd.jupyter.widget-state+json": {
        "eb61b17b4ef5446296fe88ff7f861b21": {
          "model_module": "@jupyter-widgets/controls",
          "model_name": "ButtonModel",
          "state": {
            "_view_name": "ButtonView",
            "style": "IPY_MODEL_a989b616f0ae4899b0fd34e62efb57a1",
            "_dom_classes": [],
            "description": "Info",
            "_model_name": "ButtonModel",
            "button_style": "",
            "_view_module": "@jupyter-widgets/controls",
            "_model_module_version": "1.5.0",
            "tooltip": "",
            "_view_count": null,
            "disabled": false,
            "_view_module_version": "1.5.0",
            "layout": "IPY_MODEL_87ccb1bb7dae4d8ca14f6720e17eefc7",
            "_model_module": "@jupyter-widgets/controls",
            "icon": ""
          }
        },
        "a989b616f0ae4899b0fd34e62efb57a1": {
          "model_module": "@jupyter-widgets/controls",
          "model_name": "ButtonStyleModel",
          "state": {
            "_view_name": "StyleView",
            "_model_name": "ButtonStyleModel",
            "_view_module": "@jupyter-widgets/base",
            "_model_module_version": "1.5.0",
            "_view_count": null,
            "button_color": null,
            "font_weight": "",
            "_view_module_version": "1.2.0",
            "_model_module": "@jupyter-widgets/controls"
          }
        },
        "87ccb1bb7dae4d8ca14f6720e17eefc7": {
          "model_module": "@jupyter-widgets/base",
          "model_name": "LayoutModel",
          "state": {
            "_view_name": "LayoutView",
            "grid_template_rows": null,
            "right": null,
            "justify_content": null,
            "_view_module": "@jupyter-widgets/base",
            "overflow": null,
            "_model_module_version": "1.2.0",
            "_view_count": null,
            "flex_flow": null,
            "width": null,
            "min_width": null,
            "border": null,
            "align_items": null,
            "bottom": null,
            "_model_module": "@jupyter-widgets/base",
            "top": null,
            "grid_column": null,
            "overflow_y": null,
            "overflow_x": null,
            "grid_auto_flow": null,
            "grid_area": null,
            "grid_template_columns": null,
            "flex": null,
            "_model_name": "LayoutModel",
            "justify_items": null,
            "grid_row": null,
            "max_height": null,
            "align_content": null,
            "visibility": null,
            "align_self": null,
            "height": null,
            "min_height": null,
            "padding": null,
            "grid_auto_rows": null,
            "grid_gap": null,
            "max_width": null,
            "order": null,
            "_view_module_version": "1.2.0",
            "grid_template_areas": null,
            "object_position": null,
            "object_fit": null,
            "grid_auto_columns": null,
            "margin": null,
            "display": null,
            "left": null
          }
        },
        "bb8696c7148a4aee95b95eac5d0a143d": {
          "model_module": "@jupyter-widgets/output",
          "model_name": "OutputModel",
          "state": {
            "_view_name": "OutputView",
            "msg_id": "",
            "_dom_classes": [],
            "_model_name": "OutputModel",
            "outputs": [],
            "_view_module": "@jupyter-widgets/output",
            "_model_module_version": "1.0.0",
            "_view_count": null,
            "_view_module_version": "1.0.0",
            "layout": "IPY_MODEL_bcd216a53e4a485098b5f1dae1ad8ee5",
            "_model_module": "@jupyter-widgets/output"
          }
        },
        "bcd216a53e4a485098b5f1dae1ad8ee5": {
          "model_module": "@jupyter-widgets/base",
          "model_name": "LayoutModel",
          "state": {
            "_view_name": "LayoutView",
            "grid_template_rows": null,
            "right": null,
            "justify_content": null,
            "_view_module": "@jupyter-widgets/base",
            "overflow": null,
            "_model_module_version": "1.2.0",
            "_view_count": null,
            "flex_flow": null,
            "width": null,
            "min_width": null,
            "border": null,
            "align_items": null,
            "bottom": null,
            "_model_module": "@jupyter-widgets/base",
            "top": null,
            "grid_column": null,
            "overflow_y": null,
            "overflow_x": null,
            "grid_auto_flow": null,
            "grid_area": null,
            "grid_template_columns": null,
            "flex": null,
            "_model_name": "LayoutModel",
            "justify_items": null,
            "grid_row": null,
            "max_height": null,
            "align_content": null,
            "visibility": null,
            "align_self": null,
            "height": null,
            "min_height": null,
            "padding": null,
            "grid_auto_rows": null,
            "grid_gap": null,
            "max_width": null,
            "order": null,
            "_view_module_version": "1.2.0",
            "grid_template_areas": null,
            "object_position": null,
            "object_fit": null,
            "grid_auto_columns": null,
            "margin": null,
            "display": null,
            "left": null
          }
        },
        "e901a85c402f4a719e3c46132c6e2f2c": {
          "model_module": "@jupyter-widgets/controls",
          "model_name": "ButtonModel",
          "state": {
            "_view_name": "ButtonView",
            "style": "IPY_MODEL_8739ee128358486699a2f5d3aa471f3f",
            "_dom_classes": [],
            "description": "Describe",
            "_model_name": "ButtonModel",
            "button_style": "",
            "_view_module": "@jupyter-widgets/controls",
            "_model_module_version": "1.5.0",
            "tooltip": "",
            "_view_count": null,
            "disabled": false,
            "_view_module_version": "1.5.0",
            "layout": "IPY_MODEL_f1aaa762857f4706affd034efc9961de",
            "_model_module": "@jupyter-widgets/controls",
            "icon": ""
          }
        },
        "8739ee128358486699a2f5d3aa471f3f": {
          "model_module": "@jupyter-widgets/controls",
          "model_name": "ButtonStyleModel",
          "state": {
            "_view_name": "StyleView",
            "_model_name": "ButtonStyleModel",
            "_view_module": "@jupyter-widgets/base",
            "_model_module_version": "1.5.0",
            "_view_count": null,
            "button_color": null,
            "font_weight": "",
            "_view_module_version": "1.2.0",
            "_model_module": "@jupyter-widgets/controls"
          }
        },
        "f1aaa762857f4706affd034efc9961de": {
          "model_module": "@jupyter-widgets/base",
          "model_name": "LayoutModel",
          "state": {
            "_view_name": "LayoutView",
            "grid_template_rows": null,
            "right": null,
            "justify_content": null,
            "_view_module": "@jupyter-widgets/base",
            "overflow": null,
            "_model_module_version": "1.2.0",
            "_view_count": null,
            "flex_flow": null,
            "width": null,
            "min_width": null,
            "border": null,
            "align_items": null,
            "bottom": null,
            "_model_module": "@jupyter-widgets/base",
            "top": null,
            "grid_column": null,
            "overflow_y": null,
            "overflow_x": null,
            "grid_auto_flow": null,
            "grid_area": null,
            "grid_template_columns": null,
            "flex": null,
            "_model_name": "LayoutModel",
            "justify_items": null,
            "grid_row": null,
            "max_height": null,
            "align_content": null,
            "visibility": null,
            "align_self": null,
            "height": null,
            "min_height": null,
            "padding": null,
            "grid_auto_rows": null,
            "grid_gap": null,
            "max_width": null,
            "order": null,
            "_view_module_version": "1.2.0",
            "grid_template_areas": null,
            "object_position": null,
            "object_fit": null,
            "grid_auto_columns": null,
            "margin": null,
            "display": null,
            "left": null
          }
        },
        "d5973453b8ad4b03b4cb81278f63d6c6": {
          "model_module": "@jupyter-widgets/output",
          "model_name": "OutputModel",
          "state": {
            "_view_name": "OutputView",
            "msg_id": "",
            "_dom_classes": [],
            "_model_name": "OutputModel",
            "outputs": [],
            "_view_module": "@jupyter-widgets/output",
            "_model_module_version": "1.0.0",
            "_view_count": null,
            "_view_module_version": "1.0.0",
            "layout": "IPY_MODEL_95666a4739d642b29566809847ad1000",
            "_model_module": "@jupyter-widgets/output"
          }
        },
        "95666a4739d642b29566809847ad1000": {
          "model_module": "@jupyter-widgets/base",
          "model_name": "LayoutModel",
          "state": {
            "_view_name": "LayoutView",
            "grid_template_rows": null,
            "right": null,
            "justify_content": null,
            "_view_module": "@jupyter-widgets/base",
            "overflow": null,
            "_model_module_version": "1.2.0",
            "_view_count": null,
            "flex_flow": null,
            "width": null,
            "min_width": null,
            "border": null,
            "align_items": null,
            "bottom": null,
            "_model_module": "@jupyter-widgets/base",
            "top": null,
            "grid_column": null,
            "overflow_y": null,
            "overflow_x": null,
            "grid_auto_flow": null,
            "grid_area": null,
            "grid_template_columns": null,
            "flex": null,
            "_model_name": "LayoutModel",
            "justify_items": null,
            "grid_row": null,
            "max_height": null,
            "align_content": null,
            "visibility": null,
            "align_self": null,
            "height": null,
            "min_height": null,
            "padding": null,
            "grid_auto_rows": null,
            "grid_gap": null,
            "max_width": null,
            "order": null,
            "_view_module_version": "1.2.0",
            "grid_template_areas": null,
            "object_position": null,
            "object_fit": null,
            "grid_auto_columns": null,
            "margin": null,
            "display": null,
            "left": null
          }
        },
        "6baee185f46b4250b076a36446f1fb3e": {
          "model_module": "@jupyter-widgets/controls",
          "model_name": "VBoxModel",
          "state": {
            "_view_name": "VBoxView",
            "_dom_classes": [
              "widget-interact"
            ],
            "_model_name": "VBoxModel",
            "_view_module": "@jupyter-widgets/controls",
            "_model_module_version": "1.5.0",
            "_view_count": null,
            "_view_module_version": "1.5.0",
            "box_style": "",
            "layout": "IPY_MODEL_9722b15eea474043b17d3250b364b399",
            "_model_module": "@jupyter-widgets/controls",
            "children": [
              "IPY_MODEL_57a7469926404a3fa24874bb2fd92e2a",
              "IPY_MODEL_707511d5f67f497eae7a64b41a78a603"
            ]
          }
        },
        "9722b15eea474043b17d3250b364b399": {
          "model_module": "@jupyter-widgets/base",
          "model_name": "LayoutModel",
          "state": {
            "_view_name": "LayoutView",
            "grid_template_rows": null,
            "right": null,
            "justify_content": null,
            "_view_module": "@jupyter-widgets/base",
            "overflow": null,
            "_model_module_version": "1.2.0",
            "_view_count": null,
            "flex_flow": null,
            "width": null,
            "min_width": null,
            "border": null,
            "align_items": null,
            "bottom": null,
            "_model_module": "@jupyter-widgets/base",
            "top": null,
            "grid_column": null,
            "overflow_y": null,
            "overflow_x": null,
            "grid_auto_flow": null,
            "grid_area": null,
            "grid_template_columns": null,
            "flex": null,
            "_model_name": "LayoutModel",
            "justify_items": null,
            "grid_row": null,
            "max_height": null,
            "align_content": null,
            "visibility": null,
            "align_self": null,
            "height": null,
            "min_height": null,
            "padding": null,
            "grid_auto_rows": null,
            "grid_gap": null,
            "max_width": null,
            "order": null,
            "_view_module_version": "1.2.0",
            "grid_template_areas": null,
            "object_position": null,
            "object_fit": null,
            "grid_auto_columns": null,
            "margin": null,
            "display": null,
            "left": null
          }
        },
        "57a7469926404a3fa24874bb2fd92e2a": {
          "model_module": "@jupyter-widgets/controls",
          "model_name": "DropdownModel",
          "state": {
            "_options_labels": [
              "RI",
              "Na",
              "Mg",
              "Al",
              "Si",
              "K",
              "Ca",
              "Ba",
              "Fe",
              "Class"
            ],
            "_view_name": "DropdownView",
            "style": "IPY_MODEL_4b518248a0144a948da6bf5585f7fe4c",
            "_dom_classes": [],
            "description": "name",
            "_model_name": "DropdownModel",
            "index": 0,
            "_view_module": "@jupyter-widgets/controls",
            "_model_module_version": "1.5.0",
            "_view_count": null,
            "disabled": false,
            "_view_module_version": "1.5.0",
            "description_tooltip": null,
            "_model_module": "@jupyter-widgets/controls",
            "layout": "IPY_MODEL_abd9d54d43d242689b26ef3882fe0e3b"
          }
        },
        "707511d5f67f497eae7a64b41a78a603": {
          "model_module": "@jupyter-widgets/output",
          "model_name": "OutputModel",
          "state": {
            "_view_name": "OutputView",
            "msg_id": "",
            "_dom_classes": [],
            "_model_name": "OutputModel",
            "outputs": [
              {
                "output_type": "display_data",
                "metadata": {
                  "tags": [],
                  "needs_background": "light"
                },
                "image/png": "iVBORw0KGgoAAAANSUhEUgAAAZUAAAEGCAYAAACtqQjWAAAABHNCSVQICAgIfAhkiAAAAAlwSFlzAAALEgAACxIB0t1+/AAAADh0RVh0U29mdHdhcmUAbWF0cGxvdGxpYiB2ZXJzaW9uMy4yLjIsIGh0dHA6Ly9tYXRwbG90bGliLm9yZy+WH4yJAAAgAElEQVR4nO3deZxcdZ3v/9enqtf0viXpJJ3ODoQtISEsMqAsEVwAR0ZREb2jl8GRmVFm5vdjZvyhg3N/o3iF3/wc7igqCsNVEBTNOCBE2UZJIAmEJB3IvnYn6U530lt6rfrcP6o6aZpOupNU9amqfj8f1KOqzlL1qUOl3n3O93u+x9wdERGRRAgFXYCIiGQOhYqIiCSMQkVERBJGoSIiIgmjUBERkYTJCrqARKmsrPQZM2YEXYaISFpZs2bNQXevStTrZUyozJgxg9WrVwddhohIWjGzXYl8PR3+EhGRhFGoiIhIwihUREQkYRQqIiKSMAoVERFJGIWKiIgkjEJFREQSRqEiIiIJo1AREZGEUajIKamZXouZndKtZnpt0OWLSJJkzDAtMrb27tnNfc9tOqV171x6RoKrEZFUkdQ9FTO71sw2mdlWM7trmPl3mtlGM1tnZr8zs9pB8yJmtjZ+W5bMOkVEJDGSFipmFgYeAK4D5gOfMLP5QxZ7A1js7ucBTwL3DprX5e4L4rfrk1XneHY6h7BERIaTzMNfS4Ct7r4dwMweA24ANg4s4O4vDFp+JXBLEuuRIXQIS0QSLZmHv6YCewY93xufdjyfA54Z9DzPzFab2Uozu3G4Fczstvgyq5uamk6/YhEROS0p0VBvZrcAi4ErBk2udfd6M5sFPG9m69192+D13P1B4EGAxYsX+5gVLCIiw0rmnko9UDPo+bT4tHcws6uBfwCud/eegenuXh+/3w68CCxMYq0iIpIAyQyVVcBcM5tpZjnAzcA7enGZ2ULge8QCpXHQ9DIzy40/rgTew6C2GBERSU1JO/zl7v1mdgfwLBAGHnL3OjO7B1jt7suAbwGFwBPxHkW74z29zgK+Z2ZRYsH3DXdXqIiIpLiktqm4+9PA00Om3T3o8dXHWe8V4Nxk1iYiIomnYVpERCRhFCoiIpIwChUREUkYhYqIiCSMQkVERBJGoSIiIgmjUBERkYRRqIiISMIoVEREJGEUKiIikjAKFRERSRiFioiIJIxCRUREEkahIiIiCaNQERGRhFGoiIhIwihUREQkYRQqIiKSMAoVERFJmKReo14yXyTqvL2/jbqGNiJRp3RCNhfPrKCsICfo0kQkAAoVOWU9/RH+48191B/uoqIgh8K8LHYePMLWxg4un1vF+TWlQZcoImNMoSKnxLJyeOqNeprae1g6fxJnTi7CzDjS289v32rkxc1N5GSFOKu6OOhSRWQMqU1FTknp5bdyoK2H686p5qzqYswMgAk5WXzg3MnUlOez/K0DNLZ3B1ypiIwlhYqctPpDXRQtvp7zppUwZ2Lhu+ZnhUJ84Jxq8rPD/O6tRqJRD6BKEQmCQkVOirvz4uZGIq2NXDan8rjL5WWHee+8Khrbe1i79/AYVigiQVKoyEnZ1tTJwY5eDv/+f5MdPvHXZ87EQqaXT2D1zkP09kfHqEIRCZJCRUbN3Vm5o5nSCdl0bnxpxOXNjItnldPVF2F9fesYVCgiQVOoyKjtajlCc0cvS2aUg49uz6O6JJ/p5RNYs+sQfRHtrYhkOoWKjNr6va3kZ4eZN6nopNZbXFtGV1+ELQc6klSZiKQKhYqMSnt3HzsOdnL2lGLCITupdaeV5VM2IVuHwETGAYWKjEpdQxsOnDO15KTXNTPOnVrC/rZunbcikuGSGipmdq2ZbTKzrWZ21zDz7zSzjWa2zsx+Z2a1g+Z9xsy2xG+fSWadcmLuztv726kpz6ckP/uUXuOs6tgezob6tgRXJyKpJGmhYmZh4AHgOmA+8Akzmz9ksTeAxe5+HvAkcG983XLgq8BFwBLgq2ZWlqxa5cQa23to7eo76baUwfKyw8ypKmTLgXYIaXQgkUyVzD2VJcBWd9/u7r3AY8ANgxdw9xfc/Uj86UpgWvzx+4Hl7t7i7oeA5cC1SaxVTmDLgQ5CBnOq3n32/MmYN7mQ7v4o+TMXJqgyEUk1yQyVqcCeQc/3xqcdz+eAZ05xXUkSd2dzYzvTyyeQlx0+rdeqLS8gNytEwVlXJKg6EUk1KdFQb2a3AIuBb53kereZ2WozW93U1JSc4sa5A209tHf3M/c0Dn0NCIeMuRMLyZ97MUd6+xNQnYikmmSGSj1QM+j5tPi0dzCzq4F/AK53956TWdfdH3T3xe6+uKqqKmGFyzE7DnZiwMzKgoS83rxJRYRy8nh5s/4IEMlEyQyVVcBcM5tpZjnAzcCywQuY2ULge8QCpXHQrGeBpWZWFm+gXxqfJmNsZ3Mn1SV55J/moa8BU0vziXS181zdgYS8noiklqR1w3H3fjO7g1gYhIGH3L3OzO4BVrv7MmKHuwqBJ+LX49jt7te7e4uZfZ1YMAHc4+4tyapVhtfR3U9jew+Xzq5I2GuGQkbXtlU8X1FOfyRK1giDUopIeklq3053fxp4esi0uwc9vvoE6z4EPJS86mQkO5s7gcQd+hrQtWUlh8+5klU7D3FJAgNLRIKnPxPluHY2d1KUl0VFQU5CX7drx+vkZIVYvlGHwEQyjUJFhhWNOntauqgtn3D0UsGJ4n3dXDq7ghc2NY68sIikFYWKDKuxvYfeSJSa8glJef33zqtix8FOdsUPsYlIZlCoyLB2H4oNdDCtLD8pr3/FGRMB1LVYJMMoVGRYe1qOUFmYw4Sc5PTlmFExgenlE3hJoSKSURQq8i79kSj7WruTdugLYsPhXzGvile2NdPTH0na+4jI2FKoyLs0tHYTiTo1ZckLFYDL51VxpDfCml2Hkvo+IjJ2FCryLvWHuzBgSmleUt/nolnlhAxWbmtO6vuIyNhRqMi7NBzuorIol9ysxAzNcjzFedmcO7WEFdsVKiKZQqEi7xCJOvtbu5lakpxeX0NdPLuCtXsO09WrdhWRTKBQkXdobO+mP+pJP/Q14JJZFfRFnNW7NLSbSCZQqMg7NBzuBmBK6djsqVw4o5yskLFC7SoiGUGhIu9Qf7iL0vxsCnLH5jryBblZnDdN7SoimUKhIke5x9pTqsfo0NeAS2ZXsG5vKx09uhqkSLpTqMhRrV19dPVFqB6jRvoBl8yqJBJ1Vu9Uu4pIulOoyFH7WmPtKdUlY7unsqi2jOyw6RCYSAZQqMhR+1u7yQmHKE/w9VNGkp8TZkFNqU6CFMkAChU5al9bN5OKcwkl+Popo3HJrArW17fS1t035u8tIomjUBEA+iJRDnb0jHl7yoCLZ1cQddSuIpLmFCoCwIG2btxh8hi3pwxYWFNGVshYtVODS4qkM4WKALErPQJMKs4N5P3zc8KcM7WENQoVkbSmUBEgFiqFuVlJuyjXaCyuLWPt3sO6vopIGlOoCABN7T1UFQWzlzJg8YwyevujbKhvC7QOETl1owoVM/uwmSmAMlRfJMqhzt7AQ2VRbTkAazS4pEjaGm1QfBzYYmb3mtmZySxIxt7Bjh4cmDhWoWIhzOxdt4nFefS1NPCV/+9Hw843M2qm145NjSJySkZ1AN3dbzGzYuATwI/NzIEfAT919/ZkFijJN9BIP2Z7Kh7lvuc2DTvruY372Xmwhrtufxsb5nyZO5eekezqROQ0jPqQlru3AU8CjwHVwEeA183sL5JUm4yRpvYe8rJCFI3RyMQnMqUkn66+CIe7dBKkSDoabZvKDWb2FPAikA0scffrgPOBv05eeTIWmtp7qCrOHXbPYKwNXMel4XBXwJWIyKkY7Z7KHwP3u/u57v4td28EcPcjwOeSVp0kXSTqNHf0MrEwmJMehyqbkE1eVujoxcJEJL2MNlT2u/vLgyeY2TcB3P13Ca9KxkxLZy8R98B7fg0wM6pL89nXqj0VkXQ02lC5Zphp1yWyEAlGY3tsj2DMen6NwpSSPA4d6eNIry7aJZJuThgqZvYFM1sPnGlm6wbddgDrxqZESaam9h6yw0bphOygSzmqOt6uMnB9FxFJHyPtqfwE+DDwq/j9wG2Ru98y0oub2bVmtsnMtprZXcPMv9zMXjezfjO7aci8iJmtjd+WjfoTyUlpbO+hsjA1GukHTCrKJWzGPrWriKSdkfqQurvvNLMvDp1hZuXuftxTn80sDDxA7NDZXmCVmS1z942DFtsNfBb4m2FeosvdF4z0AeR0GAc7ephfXRx0Ie+QFQ4xsTiXBrWriKSdkULlJ8CHgDWAA4P/nHVg1gnWXQJsdfftAGb2GHADcDRU3H1nfF70ZAuX05dVPoW+SOo00g82pSSftXsO0x+JkhXWCEEi6eKE/1rd/UPx+5nuPit+P3A7UaAATAX2DHq+Nz5ttPLMbLWZrTSzG4dbwMxuiy+zuqmp6SReWgByJs0GYGJRanQnHqy6NI+IOwfiZ/uLSHo44Z6KmV1wovnu/npiy3mHWnevN7NZwPNmtt7dtw15/weBBwEWL17sSawlI+VMmk3YbMyvST8a1fGLhe073MXU0mCuRikiJ2+kw1/fPsE8B648wfx6oGbQ82nxaaPi7vXx++1m9iKwENh2wpXkpORMmkVFYQ7hUOo00g+YkJNF2YRsGtQDTCStnDBU3P19p/Haq4C5ZjaTWJjcDHxyNCuaWRlwxN17zKwSeA9w72nUIkO4OzkTZ6Vke8qA6pJ8tjV14O4p1TtNRI5vpMNfV7r782b2x8PNd/dfHG9dd+83szuAZ4Ew8JC715nZPcBqd19mZhcCTwFlwIfN7B/d/WzgLOB78Qb8EPCNIb3G5DQ1tHYTnlCS0qEypTSPjfvaaOnspaIwdesUkWNGOvx1BfA8sXNThnLguKEC4O5PA08PmXb3oMeriB0WG7reK8C5I9Qmp6GuvhVIrTPph5oy6CRIhYpIehjp8NdX4/f/bWzKkbGyoaENj0aoTOEf69L8bPKzwzQc7uKcqSVBlyMiozDaoe8rzOz/j5/9vsbM/sXMKpJdnCTPxoZW+lrqyU7hc0DMjCmleWqsF0kjo/1FeQxoAj4K3BR//HiyipLk21DfRu+B1O9MN6Ukn9auPjp7NLikSDoYbahUu/vX3X1H/PZPwKRkFibJc7Cjh/1t3fQe2B50KSPSRbtE0stoQ+U5M7vZzELx28eI9eqSNFTX0AZA74GtAVcysqqiXMIh0yEwkTQxUpfido6N+fUl4NH4rBDQwfADQUqKq2uI9fzqS4M9lXDImFycpz0VkTQx0thfRe5eHL8PuXtW/BZy99Qa2lZGra6hjZryfKI9nUGXMipTSvNo6uihL6JxR0VS3UjnqRwVP8t9LnB09MGhlxiW9FBX38rZ1SX8PuhCRmlKST7uh9ivQ2AiKW9UoWJmnwf+itiJimuBi4EVnHjsL0lB7d197Gw+wkcveNc5pylrYHBJXV9FJPWNtqH+r4ALgV3x8cAWAoeTVpUkzcZ4I306nUyYmx2mojCHBl0JUiTljTZUut29G8DMct39beCM5JUlyTLQ8+vsKenVJDalJD92+MtS92RNERl9qOw1s1Lgl8ByM/sVsCt5ZUmybGhopaool4nFqXdhrhOZUppHbyRKdlVt0KWIyAmMqk3F3T8Sf/g1M3sBKAF+k7SqJGk2NrSl3V4KxPZUAPKmnR1wJSJyIifT++sC4DJi5638wd17k1aVJEV3X4QtjR1cfVb6DYZQlJdFYW4WnVPPCroUETmB0Q4oeTfwMFABVAI/MrOvJLMwSbxN+9uJRD0t91TMjCkleeROmx90KSJyAqPdU/kUcP6gxvpvEOta/E/JKkwSry4Ne34NNqU0n83FVdTruvUiKWu0DfUNDDrpEcjlJK43L6lhQ0MrxXlZTCtLzx/k6tLYV3DVjpaAKxGR4xlp7K/vEGtDaQXqzGx5/Pk1wGvJL08Sqa6hjflTitP2eu+VhblEezp5dUcLNy6cGnQ5IjKMkQ5/rY7fryF2LfkBLyalGkma/kiUt/e18emL07dLbsiM7j11rNw+MehSROQ4Rrqc8MMDj80sB5gXf7rJ3fuSWZgk1ramTnr6o5w9Nf0a6Qfr3r2OHXOWsL+1m8kl6XWujch4MNreX+8FtgAPAP8L2GxmlyexLkmwDfWx4e7PmZKejfQDunetA2DF9oMBVyIiwxltQ/23gaXufoW7Xw68H7g/eWVJotU1tJGXHWJWVWHQpZyWvsYdlORns2Jbc9CliMgwRhsq2e6+aeCJu28GspNTkiTDhoZWzqouJhxKz0b6Y5yLZpazYrtCRSQVjTZU1pjZD8zsvfHb9znWiC8pLhp13krT4VmGc8nsCva0dLGn5UjQpYjIEKMNlduBjcBfxm8bgS8kqyhJrD2HjtDe08/Zad6eMuCS2RUA2lsRSUEjnlFvZmHgTXc/E7gv+SVJom2oj59JnyGhMm9iERUFOazc1szHFtcEXY6IDDLinoq7R4BNZjZ9DOqRJKhraCUrZMybnN6N9ANCIePiWRWs2N6MuwddjogMMtqxv8qInVH/GtA5MNHdr09KVZJQGxramDupiNyscNClJMzFsyv4z/X72NV8hBmVBUGXIyJxow2V/yepVUjSuDt19a2878zMOgv9klnH2lUUKiKpY6Sxv/KINdLPAdYDP3T3/rEoTBLjQFsPzZ29nJMhPb8GzK4qYFJxLr/fepBPLNGRWZFUMVKbysPAYmKBch2xkyAljdQ1xM6kPztNh7s/HjPjj+ZW8fstB4lE1a4ikipGCpX57n6Lu38PuAn4o5N5cTO71sw2mdlWM7trmPmXm9nrZtZvZjcNmfcZM9sSv33mZN5XjtlQ34YZnFWdWXsqAFfMq6K1q4839x4OuhQRiRspVI4OGnmyh73iXZEfILaHMx/4hJkNvWzfbuCzwE+GrFsOfBW4CFgCfNXMyk7m/SWmrqGVmRUFFOaO+srRaeOyOZWYwcubm4IuRUTiRgqV882sLX5rB84beGxmbSOsuwTY6u7b49ezfwy4YfAC7r7T3dcB0SHrvh9Y7u4t7n4IWA5cO+pPJUcNXEMlE5UV5HDetFJeUqiIpIwThoq7h929OH4rcvesQY9H+qWaCuwZ9HxvfNpojGpdM7vNzFab2eqmJv2wDHWos5f6w11pe/ng0bhiXhVv7jnMoc7eoEsREUY/TEtKcvcH3X2xuy+uqqoKupyUsz4+3P15GRwqV545kajDi5sbgy5FREhuqNQDg8fQmMbor2t/OutK3ECoZFrPr8HOm1pCVVEuv92oUBFJBckMlVXAXDObGb9q5M3AslGu+yyw1MzK4g30S+PT5CSs23uYmZUFlORn7lUKQiHjqjMn8tLmJnr7hzbNichYS1qoxHuL3UEsDN4CfubudWZ2j5ldD2BmF5rZXuBPgO+ZWV183Rbg68SCaRVwT3yanIT1e1szuj1lwFVnTaKjp5/XdugrIhK0pPYzdfengaeHTLt70ONVxA5tDbfuQ8BDyawvkx3s6KGhtZv/Ng5C5bI5leRmhVi+cT+Xza0MuhyRcS2tG+rl+AbaU86dlvmhkp8T5r1nVPHMhv1EdXa9SKAUKhlq/d5WzMiYqz2O5APnVtPY3sPqXYeCLkVkXFOoZKh1e1uZVVlAUV7mNtIPdtVZk8jNCvH0+n1BlyIyrilUMtSG+lbOm1YadBljpjA3K34IbJ8OgYkESKGSgRrbutnf1j0uen4N9sHzpnCgrYeVO3TtepGgKFQy0NEz6cdBI/1gS+dPoig3i5+v0XmyIkFRqGSgdXtbCRnMz8Dh7k8kLzvMB8+r5pkN++js0bXkRIKgUMlA6+tbmTOxkIIMHO5+JB9dNI0jvRF+s2F/wl+7ZnotZnZKt5rptQmvRyQVjb9fnQzn7qyvb+XyueNzgM3FtWXMqJjA46v28NFFw55Xe8r27tnNfc9tOqV171x6RkJrEUlV2lPJMPtau2lq7+HcqePr0NcAM+NTF9Xy2s4W3to30iV/RCTRFCoZ5vXdsZP/FtWWB1xJcP5k8TTyskM8smJn0KWIjDsKlQyzZtch8rPDnFldFHQpgSmdkMONC6by1Bv1HD6ii3eJjCWFSoZ5fdchzq8pITs8vv/XfvY9M+jui/LjV3YGXYrIuDK+f3kyTFdvhLqGNhbVlgVdSuDOnFzM1WdN4kd/2El7d1/Q5YiMGwqVDLJu72H6o65QifvLq+bQ2tXHIyt2BV2KyLihUMkga+KN9AtrFCoA500r5cozJ/Ldl7bR3NETdDki44JCJYO8vusQs6oKKCvICbqUlPH3HziTI70R7lu+OehSRMYFhUqGcHfW7DrEounaSxlszsQiPn1xLT99bTcb4mOiiUjyKFQyxI6DnRw60qf2lGF8+ep5VBXl8uXH19LdFwm6HJGMplDJEGt2DZz0qFAZqmRCNt+66Xy2NHbwjWfeDrockYymUMkQr+8+THFeFrOrCoMuJSVdPq+KP33PTH78yk5++truoMsRyVgaUDJDvL7rEBfUlhEKWdClpKy//8CZbD/YwVd+uYHS/GyuO7c66JJEMo72VDJAa1cfmxvb1Ug/gqxwiO98YiHnTyvhiz95nUdX7sJdlx4WSSSFSgZYtaMFd1g8Y/wOIjlaRXnZPPr5i/ijuVV85ZcbuOOnb3BQ57CIJIxCJQOs2N5MTlaIhdNLgy4lLUzIyeKhz17I377/DJ7dsJ/L732Be3/zNntajgRdmkjaU5tKBlixrZlF08vIyw4HXUraCIeML75vDteeM5n7ntvMv720jX97aRtnTynmPbMrec+cShbVlo3Lq2eKnA79i0lzh4/08tb+Nr589bygS0lLs6sKeeBTF1B/uIunXt/Ly1sO8tAfdvC9l7cTDhlnVRexaHoZi2aUEy6sCLpckZSnUElzK7fH2lMuma0fvNMxtTSfO66cyx1XzuVIbz+rdh5i9c4W1uw6xBNr9vLwil1M++LDPLZqN2dNLubM6iJys7RnKDKUQiXNrdh2kPzsMOdPU3tKokzIyeKKeVVcMa8KgP5IlLf2tXPZTZ+n6sN/xoubm3hlWzMLakq5oLZU4SIyiBrq09x/bT3Ikpnl5GTpf2WyZIVDnDuthLZXn+STS6Zz84U1TK+YwGs7W3hkxS62HGgPukSRlKFfojS2p+UI25s6uTz+F/W4YCHM7JRuNdNrE1LCpOI8PnhuNTdfWENhbhZPb9jPc3X76e2PJuT1RdJZUg9/mdm1wL8AYeAH7v6NIfNzgUeARUAz8HF332lmM4C3gE3xRVe6++3JrDUdvbylCYAr5lUGXMkY8ij3Pbdp5OWGcefSMxJayqTiPD6+uIbXdrbw6o4WGtt7uH7BFIrzshP6PiLpJGl7KmYWBh4ArgPmA58ws/lDFvsccMjd5wD3A98cNG+buy+I3xQow3h5cxNTSvI03leAQiHj4lkV3LhgCu09/Ty+ao9OppRxLZmHv5YAW919u7v3Ao8BNwxZ5gbg4fjjJ4GrzEyDV41CXyTKK1ubuXxeFdpkwautKOBji6ZhBr94vV7BIuNWMkNlKrBn0PO98WnDLuPu/UArMNA3dqaZvWFmL5nZHyWxzrS0Ztch2nv6x1d7SoqrKMzloxdMIxQPFl3CWMajVG2o3wdMd/eFwJ3AT8yseOhCZnabma02s9VNTU1jXmSQlm88QE44pFBJMWUTco4Gy89fr+fQkd6gSxIZU8kMlXqgZtDzafFpwy5jZllACdDs7j3u3gzg7muAbcC7Thl39wfdfbG7L66qGj8/ru7O8o0HuHROBYUaRiTllBXEggXgV2sbONLbH3BFImMnmaGyCphrZjPNLAe4GVg2ZJllwGfij28Cnnd3N7OqeEM/ZjYLmAtsT2KtaWXzgQ52txzhmvmTgi4lvZxGd+STbbcqK8jhw+dX09HTz6/X7YOweoTJ+JC0P3Pdvd/M7gCeJdal+CF3rzOze4DV7r4M+CHw72a2FWghFjwAlwP3mFkfEAVud/eWZNWabp6r2w/ANWcpVE7KaXRHhpPvklxdks/750/i6Q37qfzgl4lGXRdRk4yX1GMn7v408PSQaXcPetwN/Mkw6/0c+Hkya0tnv6nbz4KaUiYW5wVdioxg7qQiLuvu5/dczv2/3cxfJ/hcGZFUk6oN9XIcWxs7qGto48PnTwm6FBmlC6aX0rHuOb7z/Fb+c92+oMsRSSqFSppZ9mYDZvCh83R99XRhZjQ/979YVFvGXz+xlg31rUGXJJI0CpU04u78x5sNXDyzgkk69JVeIv1895ZFlE3I4bZHVtPUrnNYJDMpVNLI+vpWdhzs5IYFOvSVjqqKcvn+rYtpOdLLFx5dowEoJSMpVNLIY6v2kJcd4rpzdegrXZ0ztYRv3XQ+q3cd4u5fbcDdgy5JJKEUKmmis6efZWsb+OC5UyjJj53zUDO9dszOu5DE+fD5U7jjfXN4bNUeHlmxK+hyRBJKp2OniV+va6Cjp59PXnRskIK9e3aP6XkXkjh3XjOPt/e3c8+vNzJ3YiGXzhlHly+QjKY9lTTg7jy6cjdzJxZywfSyoMuRBAiFjPs/fj6zqwr485+8zu7mI0GXJJIQCpU0sHJ7C+vrW/nse2bosFUGKcrL5vu3Lgbg84+soqNHY4RJ+lOopIEHX95GxaBBCiVz1FYU8MAnL2BbUydffnwt0aga7iW9KVRS3Nv723hhUxOfvXQGednhoMuRJHjPnEru/tB8lm88wP2/3Rx0OSKnRQ31Ke7bz22mKDeLT19SG3QpkkS3XlLLW/va+M7zWzljchEfOk/nIkl60p5KCluz6xDLNx7gz66YRemEnKDLkSQyM+654RwunFHG3zzxJq/t0KDckp4UKikqGnW+8cxbVBbm8qeXzQy6HBkDOVkhvnvLIqaW5vO5H69i/V6NESbpR6GSop5Ys4dVOw/xt++fx4QcHaUcLyoKc3n08xdRnJ/NrQ+9yuYD7UGXJHJSFCopqKm9h//xn2+xZGY5H1tcM/IKklGqS/L5yX+/iOxwiFt+8CpbGxUskj4UKikmEnXu/Nlauvuj/L8fOVfnpYxTtRUFPPr5i4g6/Ml3V7Bu7/PLiLkAAAz5SURBVOGgSxIZFYVKinngha3815aD/OP1ZzNnYmHQ5UiA5k0q4snbL6EgN4tPfv9VVm5vDrokkREpVFLIL9+o577lm/nIwqncfKEOewnMqCzgydsvZXJJHp956DV++UZ90CWJnJBCJUU8W7efv3niTS6ZVcE//7EOe8kxk0vy+NmfXcKCmlK+9Phavv7rjfRHdC0WSU0KlRTw6MpdfOHRNZw9tYQHb12kM+czkYVO+RIFNdNrKS/I4dHPX8RnL53BD3+/g1sfeo3Gtu6gP5XIu6ivaoDau/u4+1d1PPVGPe87o4oHPnWBug9nKo+e8mUKBi5RkB0O8bXrz+acqSX8w1Prueb+l/na9fO5ccFU7dlKytAvWAD6I1F+ubaBb/7mbZo7evjS1XP5iyvnEg7ph0FGdtOiaSycXsrfPvEmX378TZ5ev5+7PzSfmvIJQZcmolAZS4c6e/nl2np+/MpOdjUf4fxpJXz/1sUsqCkNujRJM7OrCnni9kt56Pc7+J/PbeKqb7/Epy+p5Yvvm0N5gYb0keAoVOJqpteyd8/uU1o3nJVNpL/v3TMsRHbldPJnLiJ/9mJyp56FhbPoadhE68onWbZlJa/fW8Oe3bqkrJxAvD3meMJFlZRe9kl+0HcV3//dBjrefI72tc/Qf6iBaTXTT+v7lZR/F6NwunVLcBQqcadzad47l57BPz+9kUOdfTR39tDS2cuBth4a27vpi8Suj1FZmENtRQFnTCqiqmgufPpDR9cVOaFRtsc0d/Tw2o4WtuZ9hOIlH6GmPJ+1P7mXfa1dVJfkn9JbD/y7cHc6eyK0dvXR2t1HW1cfrV19dPb209sfpa/fibgTMgiHjOxwiK2vLueypR+mJC+byqJcqgpzyckaXd8g/btIXwqVk3Skt5+Wzt5jtyO9TP3zh/nuS9uPLhMOGZWFOcyvLmZScR7TyvIpyssOsGoZDyoKc7nu3Go6e/qpa2ijrqGVimv/gkv++XnOmFTEgppS5k4qZPbEQiYW5VKUm01hXhbuTldfhO6+KAc7emg43MW+1m7qD3cx8aav8ciKnbR19xMZcgGxwtwsCnOzyMsKU5wXIhQyolEnEnV6I1FyJs5i3d7Wd6xXPiGHaWX51JRPYFpZvno6ZiCFynF09UZobO9+V4B09x07PyA7bJRNyKF751qW3vgxKgpyKCvIoSQvm5Aa3SUgBblZLJlZzoUzyrjrU0v5158/z39tOcjv3j7A46v3jPp1ygtyCBWUUlGQy6zKQorzsyjJz6Y4P5uivCyyQife67jzrqv49rNv09kboak9tue+v7Wbt/a3sa6+FQOmluUzp6qQWVUF+sMrQ4z7UHF39rd1kz9nCSu3N8e//D3vuF54XlaI8oIc5lQVUl6Qc/RWmJuFmXHnV+7nwi/dHuCnEHk3M6Pv4G5uu3w2t10+G4CWzl62NnbQ0tlLR08/7d19hMzIzw6Tmx2ioiCXKaV5VJfkk58Txmwp/9cpHhYeqGFgj2ZmZQEQG9/uQFs3O5s72dbUyYubm3hxcxOTi/OYPbGAOVUaniidjftQqT/cxWXffIGJH72bV3e0UDYhm6ml+VQV5VJVlEtlYQ752WGdByAZobwghyUzywOtIRwyppTmM6U0n0tnV9LS2cu2pg62Nnbwh63N/GFrM9V/+gD/89lNXDN/EudOLdGefxoZ96EytTSfr994Dv/9pmv5x+8/NeqGRBFJjNiefzkXziinrauPbU0dPLdrHf/20jb+9YWtTCrO5Zr5k7hm/mQumlmudpgUN+5Dxcz49MW13Fr/djCBMkJ3UZHxpDg/m4XTy/j3x/6elo4enn+7keUbD/DzNfU8unI3OVkhFtaUcvGsChZOL+WcqSVUFuYm7P1Ppws1nF5X6NN571Tqgp3UUDGza4F/AcLAD9z9G0Pm5wKPAIuAZuDj7r4zPu/vgM8BEeAv3f3ZZNYamAQM3yGSicoKcvjooml8dNE0uvsirNjWzCvbDrJyewvfeX4LA53KJhfnMXdSIdPLJ1BbMYFJxXlUFORSURhr98wKx7o4Z4dDhENGX3+Unv4oPf0RevqjdPfF7rt6IzTnTeG2R35Of8Tpjzp9kWj8cZS++H0kfpoANnBnxP9j9XO/4O9+sY6QGVkhIxwKkRU2wqGB54OmDzwPGyEzDleew61fe4Jo1Im6E3Xi97HH7k40+s5pA49XPfWDQP4fDSdpoWJmYeAB4BpgL7DKzJa5+8ZBi30OOOTuc8zsZuCbwMfNbD5wM3A2MAX4rZnNc/dIsuoVkdSVlx3mfWdO5H1nTgSgrbuPjQ1tbKhvZUN9KzsOdvKf6/dx+MipnWw5YOIff4Vn6w68a3p22MgaFBAAOAzuZO3u5M04n9+91UgkGjtvJxIPp0g0FkhDemW/Q8XSP+elzU3vmm5AKGSELHZkJWyGGYQsNi1kRlbZlNP63ImUzD2VJcBWd98OYGaPATcAg0PlBuBr8cdPAv9qsWNBNwCPuXsPsMPMtsZfb0US6xWRNFGcl83Fsyq4eFbFO6a3HumjqaOb5o7YaQBHeiP0RaL0RaL0Rpz+SJTcrBC52eHYfVb8PjtEfnaYSy+6kLu+96ujezcDexOjPUR959Jr2evHT47oQNhE42EzsPcTdaqrJ/NPT6zAjHhwHAuSEd/3a/cS+5s8eOYn2ACn9cJmNwHXuvvn488/DVzk7ncMWmZDfJm98efbgIuIBc1Kd380Pv2HwDPu/uSQ97gNuC3+9Azg1Ps+ZpZK4GDQRaQIbYtjtC2O0baIqQQK3L0qUS+Y1g317v4g8GDQdaQaM1vt7ouDriMVaFsco21xjLZFTHw7zEjkayazu1M9MPiauNPi04ZdxsyygBJiDfajWVdERFJMMkNlFTDXzGaaWQ6xhvdlQ5ZZBnwm/vgm4HmPHY9bBtxsZrlmNhOYC7yWxFpFRCQBknb4y937zewO4FliXYofcvc6M7sHWO3uy4AfAv8eb4hvIRY8xJf7GbFG/X7gi+r5dVJ0SPAYbYtjtC2O0baISfh2SFpDvYiIjD8ak0RERBJGoSIiIgmjUElxZvaQmTXGz+kZbv57zazVzNbGb3ePtK6Zfc3M6get84Fkf45EONVtYWY1ZvaCmW00szoz+6tB65Sb2XIz2xK/Lxurz3OqkrQdxtt3Is/MXjOzN+Pb4h8HrTPTzF41s61m9ni8o1HKS9K2+LGZ7Ri0zoIRC3F33VL4BlwOXABsOM789wK/Ppl1iZ1c+jdBf7ax2hZANXBB/HERsBmYH39+L3BX/PFdwDeD/pwBbYfx9p0woDD+OBt4Fbg4/vxnwM3xx98FvhD05wxwW/wYuOlk6tCeSopz95eJ9Ywb03VT0al+Hnff5+6vxx+3A28BU+OzbwAejj9+GLgxAaUmVZK2Q1o6jW3h7t4Rf5odv3l8mKgriQ0bBWnynYDEb4tTrUOhkhkuie+6PmNmZ49ynTvMbF18lznlD/mchBNuCzObASwk9tcYwCR33xd/vB+YNCZVJt/JbgcYZ98JMwub2VqgEVju7q8CFcBhdx+49Ote0jx4hziZbTHgf8S/F/dbbGT5E1KopL/XgVp3Px/4DvDLUazzb8BsYAGwD/h28sobUyfcFmZWCPwc+JK7tw1d2WP7+5nQx/5UtsO4+064e8TdFxAbsWOJmZ0TUI1j5VS2xd8BZwIXAuXA/z3SmyhU0py7tw3surr700C2mVWOsM6B+JcoCnyf2AjQae9E28LMson9kP5vd//FoNUOmFl1fJlqYn+ppbVT2Q7j8TsxaJnDwAvAtcSGiSq12LBRkEFDRJ3Cthg4ZOoeGzH+R4zie6FQSXNmNjl+HBgzW0Ls/2nzCOtUD3r6EWDY3iLp5njbIj7th8Bb7n7fkNUGDxX0GeBXY1VvspzKdhiH34kqMyuNT88ndt2nt+N7qy8QGzYKMuQ7ASe/LeLPB/7gMmJtSyN/L8ayd4Jup9Sj46fEDkf0ETu++zngduD2+Pw7gDrgTWAlcOmJ1o1P/3dgPbCO2I9qddCfM5nbAriM2GGtdcDa+O0D8XkVwO+ALcBvgfKgP2dA22G8fSfOA96If94NwN2DXnMWsbEGtwJPALlBf84At8Xz8e/FBuBR4r3ETnTTMC0iIpIwOvwlIiIJo1AREZGEUaiIiEjCKFRERCRhFCoiIpIwChWRJDCzSHxU1w1m9h+DzgOYcbxRZEUygUJFJDm63H2Bu59DbJC/LwZdkMhYUKiIJN8KMmtQQpHjUqiIJJGZhYGriJ2lLpLxFCoiyZEfH0p8YDj95QHXIzImFCoiydHlsaHEa4ldWU9tKjIuKFREksjdjwB/Cfz1oOHURTKWQkUkydx9YATYTwRdi0iyaZRiERFJGO2piIhIwihUREQkYRQqIiKSMAoVERFJGIWKiIgkjEJFREQSRqEiIiIJ838ANPUp5Y8u010AAAAASUVORK5CYII=\n",
                "text/plain": "<Figure size 432x288 with 1 Axes>"
              }
            ],
            "_view_module": "@jupyter-widgets/output",
            "_model_module_version": "1.0.0",
            "_view_count": null,
            "_view_module_version": "1.0.0",
            "layout": "IPY_MODEL_ff22a283fc674dcd97fa778bbf938cae",
            "_model_module": "@jupyter-widgets/output"
          }
        },
        "4b518248a0144a948da6bf5585f7fe4c": {
          "model_module": "@jupyter-widgets/controls",
          "model_name": "DescriptionStyleModel",
          "state": {
            "_view_name": "StyleView",
            "_model_name": "DescriptionStyleModel",
            "description_width": "",
            "_view_module": "@jupyter-widgets/base",
            "_model_module_version": "1.5.0",
            "_view_count": null,
            "_view_module_version": "1.2.0",
            "_model_module": "@jupyter-widgets/controls"
          }
        },
        "abd9d54d43d242689b26ef3882fe0e3b": {
          "model_module": "@jupyter-widgets/base",
          "model_name": "LayoutModel",
          "state": {
            "_view_name": "LayoutView",
            "grid_template_rows": null,
            "right": null,
            "justify_content": null,
            "_view_module": "@jupyter-widgets/base",
            "overflow": null,
            "_model_module_version": "1.2.0",
            "_view_count": null,
            "flex_flow": null,
            "width": null,
            "min_width": null,
            "border": null,
            "align_items": null,
            "bottom": null,
            "_model_module": "@jupyter-widgets/base",
            "top": null,
            "grid_column": null,
            "overflow_y": null,
            "overflow_x": null,
            "grid_auto_flow": null,
            "grid_area": null,
            "grid_template_columns": null,
            "flex": null,
            "_model_name": "LayoutModel",
            "justify_items": null,
            "grid_row": null,
            "max_height": null,
            "align_content": null,
            "visibility": null,
            "align_self": null,
            "height": null,
            "min_height": null,
            "padding": null,
            "grid_auto_rows": null,
            "grid_gap": null,
            "max_width": null,
            "order": null,
            "_view_module_version": "1.2.0",
            "grid_template_areas": null,
            "object_position": null,
            "object_fit": null,
            "grid_auto_columns": null,
            "margin": null,
            "display": null,
            "left": null
          }
        },
        "ff22a283fc674dcd97fa778bbf938cae": {
          "model_module": "@jupyter-widgets/base",
          "model_name": "LayoutModel",
          "state": {
            "_view_name": "LayoutView",
            "grid_template_rows": null,
            "right": null,
            "justify_content": null,
            "_view_module": "@jupyter-widgets/base",
            "overflow": null,
            "_model_module_version": "1.2.0",
            "_view_count": null,
            "flex_flow": null,
            "width": null,
            "min_width": null,
            "border": null,
            "align_items": null,
            "bottom": null,
            "_model_module": "@jupyter-widgets/base",
            "top": null,
            "grid_column": null,
            "overflow_y": null,
            "overflow_x": null,
            "grid_auto_flow": null,
            "grid_area": null,
            "grid_template_columns": null,
            "flex": null,
            "_model_name": "LayoutModel",
            "justify_items": null,
            "grid_row": null,
            "max_height": null,
            "align_content": null,
            "visibility": null,
            "align_self": null,
            "height": null,
            "min_height": null,
            "padding": null,
            "grid_auto_rows": null,
            "grid_gap": null,
            "max_width": null,
            "order": null,
            "_view_module_version": "1.2.0",
            "grid_template_areas": null,
            "object_position": null,
            "object_fit": null,
            "grid_auto_columns": null,
            "margin": null,
            "display": null,
            "left": null
          }
        }
      }
    }
  },
  "cells": [
    {
      "cell_type": "markdown",
      "metadata": {
        "id": "TL5QrGY30POV"
      },
      "source": [
        "# Библиотеки \n"
      ]
    },
    {
      "cell_type": "markdown",
      "metadata": {
        "id": "Ysl8bbktEQ7X"
      },
      "source": [
        "Ячейки лучше выполнять каждую самому (есть баг, что не выполняются некоторые функции, если выполнять ячейки автоматически.)"
      ]
    },
    {
      "cell_type": "code",
      "metadata": {
        "id": "uuN4U0aQ0WP7"
      },
      "source": [
        "import pandas as pd\n",
        "import numpy as np\n",
        "import matplotlib.pyplot as plt\n",
        "import seaborn as sns\n",
        "import sklearn.preprocessing as prepro\n",
        "import ipywidgets as widg\n",
        "\n",
        "from IPython.display import display\n",
        "from google.colab import widgets\n",
        "from google.colab import output\n",
        "from matplotlib import pylab\n",
        "from six.moves import zip\n",
        "\n",
        "from sklearn.decomposition import PCA"
      ],
      "execution_count": null,
      "outputs": []
    },
    {
      "cell_type": "markdown",
      "metadata": {
        "id": "kb59_TrW0YZ7"
      },
      "source": [
        "# Загрузка данных"
      ]
    },
    {
      "cell_type": "code",
      "metadata": {
        "id": "7Nnzrwl50c7L"
      },
      "source": [
        "data = pd.read_csv('https://archive.ics.uci.edu/ml/machine-learning-databases/glass/glass.data', header=None)\n",
        "\n",
        "names = ['ID', 'RI', 'Na', 'Mg', 'Al', 'Si', 'K', 'Ca', 'Ba', 'Fe', 'Class']\n",
        "data.columns = names\n",
        "\n",
        "data = data.drop(columns='ID')\n",
        "\n",
        "data['Class'].replace(\n",
        "                      {\n",
        "                          1:'building_windows_float_processed',\n",
        "                          2:'building_windows_non_float_processed',\n",
        "                          3:'vehicle_windows_float_processed',\n",
        "                          4:'vehicle_windows_non_float_processed',\n",
        "                          5:'containers',\n",
        "                          6:'tableware',\n",
        "                          7:'headlamps'\n",
        "                      }, inplace = True)"
      ],
      "execution_count": null,
      "outputs": []
    },
    {
      "cell_type": "markdown",
      "metadata": {
        "id": "JUpJLcmn0dyD"
      },
      "source": [
        "# Задание 2. Формы и виджеты при разработке GUI в Jupyter Notebook"
      ]
    },
    {
      "cell_type": "markdown",
      "metadata": {
        "id": "1fDUyWZI0yr7"
      },
      "source": [
        "## 1. Форма выбора и представления датафрема"
      ]
    },
    {
      "cell_type": "code",
      "metadata": {
        "colab": {
          "base_uri": "https://localhost:8080/"
        },
        "id": "p3i_xncn0kqD",
        "outputId": "2d203c36-5dec-41a9-ed3b-70f8dfaf4b40"
      },
      "source": [
        "#@title {run: \"auto\"}\n",
        "data1 = pd.read_csv(\"/content/sample_data/california_housing_test.csv\")\n",
        "data2 = pd.read_csv(\"/content/sample_data/california_housing_train.csv\")\n",
        "data3 = pd.read_csv(\"/content/sample_data/mnist_test.csv\")\n",
        "\n",
        "format = True #@param {type: \"boolean\"}\n",
        "\n",
        "tabl = \"data2\" #@param [\"data1\", \"data2\", \"data3\"]\n",
        "\n",
        "\n",
        "if format == False and tabl == 'data1':\n",
        "    print(data1)\n",
        "if format == False and tabl == 'data2':\n",
        "    print(data2)\n",
        "if format == False and tabl == 'data3':\n",
        "    print(data3)\n",
        "else:\n",
        "    if format == True and tabl == 'data1':\n",
        "      print(data1.describe())\n",
        "    if format == True and tabl == 'data2':\n",
        "      print(data2.describe())\n",
        "    if format == True and tabl == 'data3':\n",
        "      print(data3.describe())"
      ],
      "execution_count": null,
      "outputs": [
        {
          "output_type": "stream",
          "text": [
            "          longitude      latitude  ...  median_income  median_house_value\n",
            "count  17000.000000  17000.000000  ...   17000.000000        17000.000000\n",
            "mean    -119.562108     35.625225  ...       3.883578       207300.912353\n",
            "std        2.005166      2.137340  ...       1.908157       115983.764387\n",
            "min     -124.350000     32.540000  ...       0.499900        14999.000000\n",
            "25%     -121.790000     33.930000  ...       2.566375       119400.000000\n",
            "50%     -118.490000     34.250000  ...       3.544600       180400.000000\n",
            "75%     -118.000000     37.720000  ...       4.767000       265000.000000\n",
            "max     -114.310000     41.950000  ...      15.000100       500001.000000\n",
            "\n",
            "[8 rows x 9 columns]\n"
          ],
          "name": "stdout"
        }
      ]
    },
    {
      "cell_type": "markdown",
      "metadata": {
        "id": "0Fz7H-0P01QM"
      },
      "source": [
        "## 2. Виджет button для вывода информации или описательной статистики датафрейма"
      ]
    },
    {
      "cell_type": "code",
      "metadata": {
        "colab": {
          "base_uri": "https://localhost:8080/",
          "height": 81,
          "referenced_widgets": [
            "eb61b17b4ef5446296fe88ff7f861b21",
            "a989b616f0ae4899b0fd34e62efb57a1",
            "87ccb1bb7dae4d8ca14f6720e17eefc7",
            "bb8696c7148a4aee95b95eac5d0a143d",
            "bcd216a53e4a485098b5f1dae1ad8ee5",
            "e901a85c402f4a719e3c46132c6e2f2c",
            "8739ee128358486699a2f5d3aa471f3f",
            "f1aaa762857f4706affd034efc9961de",
            "d5973453b8ad4b03b4cb81278f63d6c6",
            "95666a4739d642b29566809847ad1000"
          ]
        },
        "id": "Pesr9azs05Dj",
        "outputId": "bd7cb78c-93eb-465e-b5b7-f1592b39573b"
      },
      "source": [
        "import pandas as pd\n",
        "import numpy as np\n",
        "import ipywidgets as wd\n",
        "from IPython.display import display as dp\n",
        "\n",
        "data = pd.read_csv(\"/content/sample_data/california_housing_test.csv\")\n",
        "\n",
        "button = wd.Button(description=\"Info\")\n",
        "output = wd.Output()\n",
        "\n",
        "def  on_my_button_click(b):\n",
        "    with output:\n",
        "        print('Информация:')\n",
        "        print(data.info())\n",
        "        print('\\n')\n",
        "button.on_click(on_my_button_click)\n",
        "display(button, output)\n",
        "\n",
        "button = wd.Button(description=\"Describe\")\n",
        "output = wd.Output()\n",
        "\n",
        "def  on_my_button_click(b):\n",
        "    with output:\n",
        "        print('Описание:')\n",
        "        print(data.describe())\n",
        "        print('\\n')\n",
        "button.on_click(on_my_button_click)\n",
        "display(button, output)"
      ],
      "execution_count": null,
      "outputs": [
        {
          "output_type": "display_data",
          "data": {
            "application/vnd.jupyter.widget-view+json": {
              "model_id": "eb61b17b4ef5446296fe88ff7f861b21",
              "version_minor": 0,
              "version_major": 2
            },
            "text/plain": [
              "Button(description='Info', style=ButtonStyle())"
            ]
          },
          "metadata": {
            "tags": []
          }
        },
        {
          "output_type": "display_data",
          "data": {
            "application/vnd.jupyter.widget-view+json": {
              "model_id": "bb8696c7148a4aee95b95eac5d0a143d",
              "version_minor": 0,
              "version_major": 2
            },
            "text/plain": [
              "Output()"
            ]
          },
          "metadata": {
            "tags": []
          }
        },
        {
          "output_type": "display_data",
          "data": {
            "application/vnd.jupyter.widget-view+json": {
              "model_id": "e901a85c402f4a719e3c46132c6e2f2c",
              "version_minor": 0,
              "version_major": 2
            },
            "text/plain": [
              "Button(description='Describe', style=ButtonStyle())"
            ]
          },
          "metadata": {
            "tags": []
          }
        },
        {
          "output_type": "display_data",
          "data": {
            "application/vnd.jupyter.widget-view+json": {
              "model_id": "d5973453b8ad4b03b4cb81278f63d6c6",
              "version_minor": 0,
              "version_major": 2
            },
            "text/plain": [
              "Output()"
            ]
          },
          "metadata": {
            "tags": []
          }
        }
      ]
    },
    {
      "cell_type": "markdown",
      "metadata": {
        "id": "M7URAwFf1Fhc"
      },
      "source": [
        "# Задание 3. Визуальный анализ данных"
      ]
    },
    {
      "cell_type": "markdown",
      "metadata": {
        "id": "tN1KPf_W1Jk8"
      },
      "source": [
        "## Cделать виджет для выбора переменной. Для выбранной переменной строиться гистограмма, если переменная числовая или столбчатая диаграмма, если переменная категориальная."
      ]
    },
    {
      "cell_type": "code",
      "metadata": {
        "colab": {
          "base_uri": "https://localhost:8080/",
          "height": 328,
          "referenced_widgets": [
            "6baee185f46b4250b076a36446f1fb3e",
            "9722b15eea474043b17d3250b364b399",
            "57a7469926404a3fa24874bb2fd92e2a",
            "707511d5f67f497eae7a64b41a78a603",
            "4b518248a0144a948da6bf5585f7fe4c",
            "abd9d54d43d242689b26ef3882fe0e3b",
            "ff22a283fc674dcd97fa778bbf938cae"
          ]
        },
        "id": "SlVFErOW1MI0",
        "outputId": "5e116494-6c3a-4f38-9059-591e4891efc6"
      },
      "source": [
        "import ipywidgets\n",
        "\n",
        "def histogram (name):\n",
        "\n",
        "  if name == \"Class\":\n",
        "    fig, ax = plt.subplots(figsize=(12,6))\n",
        "    ax.bar(data['Class'].value_counts().index.values,\n",
        "    data['Class'].value_counts().values)\n",
        "    ax.set_xlabel(None, fontsize = 16)\n",
        "    ax.set_title('Barplot для ' + str(name), fontsize=16)\n",
        "    ax.tick_params(axis='x', which = 'major', labelsize = 14, rotation = 35)\n",
        "    plt.show()\n",
        "\n",
        "  else:\n",
        "      sns.histplot(data=data, x = name,\n",
        "                        bins = 20,\n",
        "                        kde = True,\n",
        "                        stat = 'probability' )\n",
        "      plt.show()\n",
        "\n",
        "\n",
        "ipywidgets.interact(histogram, name= ['RI', 'Na', 'Mg', 'Al', 'Si', 'K', 'Ca', 'Ba', 'Fe', 'Class'])"
      ],
      "execution_count": null,
      "outputs": [
        {
          "output_type": "display_data",
          "data": {
            "application/vnd.jupyter.widget-view+json": {
              "model_id": "6baee185f46b4250b076a36446f1fb3e",
              "version_minor": 0,
              "version_major": 2
            },
            "text/plain": [
              "interactive(children=(Dropdown(description='name', options=('RI', 'Na', 'Mg', 'Al', 'Si', 'K', 'Ca', 'Ba', 'Fe…"
            ]
          },
          "metadata": {
            "tags": []
          }
        },
        {
          "output_type": "execute_result",
          "data": {
            "text/plain": [
              "<function __main__.histogram>"
            ]
          },
          "metadata": {
            "tags": []
          },
          "execution_count": 24
        }
      ]
    },
    {
      "cell_type": "markdown",
      "metadata": {
        "id": "tQ_lV6Ch51dd"
      },
      "source": [
        "## 2. Cделать виджет для выбора переменной. Для выбранной переменной строиться диаграмма \"ящик с усами\"."
      ]
    },
    {
      "cell_type": "code",
      "metadata": {
        "colab": {
          "base_uri": "https://localhost:8080/",
          "height": 483
        },
        "id": "K-6OzHIt5-2W",
        "outputId": "0750bcaf-68fb-4eb2-985e-9ec141978a17"
      },
      "source": [
        "#@title {run: \"auto\"}\n",
        "Column_Name = \"Mg\" #@param [\"Mg\", \"Al\", \"Si\", \"K\", \"Ca\", \"Ba\", \"Fe\"] \n",
        "\n",
        "fig3, ax3 = plt.subplots(figsize = (6, 8))\n",
        "\n",
        "ax3.boxplot(data[str(Column_Name)][~np.isnan(data[str(Column_Name)])], showmeans=True)\n",
        "\n",
        "plt.show()"
      ],
      "execution_count": null,
      "outputs": [
        {
          "output_type": "display_data",
          "data": {
            "image/png": "[encoded data removed]",
            "text/plain": [
              "<Figure size 432x576 with 1 Axes>"
            ]
          },
          "metadata": {
            "tags": [],
            "needs_background": "light"
          }
        }
      ]
    },
    {
      "cell_type": "markdown",
      "metadata": {
        "id": "HgW-0jir6Cck"
      },
      "source": [
        "## 3. Сделать виджет для выбора пары переменных, для них строится парный график с раскраской точек по классам."
      ]
    },
    {
      "cell_type": "code",
      "metadata": {
        "cellView": "form",
        "id": "t5MbfFs26Dnt"
      },
      "source": [
        "#@title {run: \"auto\"}\n",
        "Variable1 = \"Si\" #@param [\"Mg\", \"Al\", \"Si\", \"K\", \"Ca\", \"Ba\", \"Fe\"] \n",
        "Variable2 = \"Ba\" #@param [\"Mg\", \"Al\", \"Si\", \"K\", \"Ca\", \"Ba\", \"Fe\"] \n",
        "\n",
        "pairButton = widg.Button(description=\"Show Pair Plot\")\n",
        "pairOutput = widg.Output()\n",
        "\n",
        "def on_button_clicked(b):\n",
        "  # Display the message within the output widget.\n",
        "  with pairOutput:\n",
        "    fig, ax = plt.subplots(figsize = (10, 8))\n",
        "\n",
        "    for glassType in data['Class'].value_counts().index.values:\n",
        "      ax.scatter(data[Variable1][data['Class'] == glassType],\n",
        "                data[Variable2][data['Class'] == glassType],\n",
        "                label = glassType)\n",
        "\n",
        "    # ax.scatter(data['Mg'], data['Fe'])\n",
        "    ax.set_xlabel(Variable1)\n",
        "    ax.set_ylabel(Variable2)\n",
        "    ax.legend()\n",
        "\n",
        "    plt.show()\n",
        "\n",
        "pairButton.on_click(on_button_clicked)\n",
        "display(pairButton, pairOutput)"
      ],
      "execution_count": null,
      "outputs": []
    },
    {
      "cell_type": "markdown",
      "metadata": {
        "id": "jM3fG2LK6b1A"
      },
      "source": [
        "# Задание 4. Заполнение пробелов, корреляции\n",
        "1. Заполнить пропуски в данных 2м способом - средним по категориям (по типам стекла). Сохранить в новый датафрейм, построить графики МГК (сравнить с предыдущими)\n",
        "2. Построить графики heatmap для средних и слабых корреляций"
      ]
    },
    {
      "cell_type": "code",
      "metadata": {
        "colab": {
          "base_uri": "https://localhost:8080/",
          "height": 493
        },
        "id": "lbNUfo3pAr8Z",
        "outputId": "0577c5f1-00f4-43ff-d1c5-f9fd326f3d58"
      },
      "source": [
        "data.mean()\n",
        "data_fillna_mean = data.fillna(data.mean()).copy()\n",
        "data_fillna_mean.info()\n",
        "pcaData=pd.DataFrame(\n",
        "    pca.transform(data_fillna_mean[data_fillna_mean.columns.values[data_fillna_mean.columns.values != 'Class']]))\n",
        "pcaNames=[]\n",
        "for i in range(9):\n",
        "  pcaNames.append('pc'+str(i+1))\n",
        "pcaData.columns=pcaNames\n",
        "pcaData.head()"
      ],
      "execution_count": null,
      "outputs": [
        {
          "output_type": "stream",
          "text": [
            "<class 'pandas.core.frame.DataFrame'>\n",
            "RangeIndex: 214 entries, 0 to 213\n",
            "Data columns (total 10 columns):\n",
            " #   Column  Non-Null Count  Dtype  \n",
            "---  ------  --------------  -----  \n",
            " 0   RI      214 non-null    float64\n",
            " 1   Na      214 non-null    float64\n",
            " 2   Mg      214 non-null    float64\n",
            " 3   Al      214 non-null    float64\n",
            " 4   Si      214 non-null    float64\n",
            " 5   K       214 non-null    float64\n",
            " 6   Ca      214 non-null    float64\n",
            " 7   Ba      214 non-null    float64\n",
            " 8   Fe      214 non-null    float64\n",
            " 9   Class   214 non-null    object \n",
            "dtypes: float64(9), object(1)\n",
            "memory usage: 16.8+ KB\n"
          ],
          "name": "stdout"
        },
        {
          "output_type": "execute_result",
          "data": {
            "text/html": [
              "<div>\n",
              "<style scoped>\n",
              "    .dataframe tbody tr th:only-of-type {\n",
              "        vertical-align: middle;\n",
              "    }\n",
              "\n",
              "    .dataframe tbody tr th {\n",
              "        vertical-align: top;\n",
              "    }\n",
              "\n",
              "    .dataframe thead th {\n",
              "        text-align: right;\n",
              "    }\n",
              "</style>\n",
              "<table border=\"1\" class=\"dataframe\">\n",
              "  <thead>\n",
              "    <tr style=\"text-align: right;\">\n",
              "      <th></th>\n",
              "      <th>pc1</th>\n",
              "      <th>pc2</th>\n",
              "      <th>pc3</th>\n",
              "      <th>pc4</th>\n",
              "      <th>pc5</th>\n",
              "      <th>pc6</th>\n",
              "      <th>pc7</th>\n",
              "      <th>pc8</th>\n",
              "      <th>pc9</th>\n",
              "    </tr>\n",
              "  </thead>\n",
              "  <tbody>\n",
              "    <tr>\n",
              "      <th>0</th>\n",
              "      <td>-1.431425</td>\n",
              "      <td>-1.102115</td>\n",
              "      <td>-1.066958</td>\n",
              "      <td>-0.158237</td>\n",
              "      <td>0.143080</td>\n",
              "      <td>-0.081096</td>\n",
              "      <td>-0.067756</td>\n",
              "      <td>0.011377</td>\n",
              "      <td>-0.000945</td>\n",
              "    </tr>\n",
              "    <tr>\n",
              "      <th>1</th>\n",
              "      <td>-1.436707</td>\n",
              "      <td>0.343585</td>\n",
              "      <td>-0.277824</td>\n",
              "      <td>-0.293937</td>\n",
              "      <td>-0.194434</td>\n",
              "      <td>-0.050149</td>\n",
              "      <td>-0.043168</td>\n",
              "      <td>-0.017048</td>\n",
              "      <td>-0.000955</td>\n",
              "    </tr>\n",
              "    <tr>\n",
              "      <th>2</th>\n",
              "      <td>-1.427322</td>\n",
              "      <td>0.345720</td>\n",
              "      <td>0.138708</td>\n",
              "      <td>-0.321984</td>\n",
              "      <td>0.023720</td>\n",
              "      <td>-0.189375</td>\n",
              "      <td>-0.045462</td>\n",
              "      <td>0.019612</td>\n",
              "      <td>-0.000351</td>\n",
              "    </tr>\n",
              "    <tr>\n",
              "      <th>3</th>\n",
              "      <td>-1.257825</td>\n",
              "      <td>-0.249060</td>\n",
              "      <td>0.057742</td>\n",
              "      <td>0.022271</td>\n",
              "      <td>0.002472</td>\n",
              "      <td>0.016129</td>\n",
              "      <td>-0.046219</td>\n",
              "      <td>0.087868</td>\n",
              "      <td>-0.000471</td>\n",
              "    </tr>\n",
              "    <tr>\n",
              "      <th>4</th>\n",
              "      <td>-1.312466</td>\n",
              "      <td>-0.018405</td>\n",
              "      <td>0.357510</td>\n",
              "      <td>-0.278564</td>\n",
              "      <td>-0.071025</td>\n",
              "      <td>0.084925</td>\n",
              "      <td>-0.054818</td>\n",
              "      <td>-0.001803</td>\n",
              "      <td>-0.000694</td>\n",
              "    </tr>\n",
              "  </tbody>\n",
              "</table>\n",
              "</div>"
            ],
            "text/plain": [
              "        pc1       pc2       pc3  ...       pc7       pc8       pc9\n",
              "0 -1.431425 -1.102115 -1.066958  ... -0.067756  0.011377 -0.000945\n",
              "1 -1.436707  0.343585 -0.277824  ... -0.043168 -0.017048 -0.000955\n",
              "2 -1.427322  0.345720  0.138708  ... -0.045462  0.019612 -0.000351\n",
              "3 -1.257825 -0.249060  0.057742  ... -0.046219  0.087868 -0.000471\n",
              "4 -1.312466 -0.018405  0.357510  ... -0.054818 -0.001803 -0.000694\n",
              "\n",
              "[5 rows x 9 columns]"
            ]
          },
          "metadata": {
            "tags": []
          },
          "execution_count": 49
        }
      ]
    },
    {
      "cell_type": "code",
      "metadata": {
        "id": "JY1gX5TQAxgh"
      },
      "source": [
        "from sklearn.decomposition import PCA"
      ],
      "execution_count": null,
      "outputs": []
    },
    {
      "cell_type": "code",
      "metadata": {
        "colab": {
          "base_uri": "https://localhost:8080/"
        },
        "id": "SpwHNtOFAzFS",
        "outputId": "8586ef47-d5d8-4c78-bd66-377e9f5cebfd"
      },
      "source": [
        "pca = PCA()\n",
        "pca.fit( data_fillna_mean[data_fillna_mean.columns.values[data_fillna_mean.columns.values != 'Class']] )"
      ],
      "execution_count": null,
      "outputs": [
        {
          "output_type": "execute_result",
          "data": {
            "text/plain": [
              "PCA(copy=True, iterated_power='auto', n_components=None, random_state=None,\n",
              "    svd_solver='auto', tol=0.0, whiten=False)"
            ]
          },
          "metadata": {
            "tags": []
          },
          "execution_count": 50
        }
      ]
    },
    {
      "cell_type": "code",
      "metadata": {
        "colab": {
          "base_uri": "https://localhost:8080/"
        },
        "id": "osbggnqxAx7D",
        "outputId": "ce20ab7a-1c8e-4f4f-9b45-40a9a075f3e8"
      },
      "source": [
        "print(pca.explained_variance_ratio_*100)"
      ],
      "execution_count": null,
      "outputs": [
        {
          "output_type": "stream",
          "text": [
            "[4.76205247e+01 2.63192760e+01 1.07800432e+01 1.02024637e+01\n",
            " 3.30672372e+00 1.60477360e+00 1.42743130e-01 2.34365001e-02\n",
            " 1.53917702e-05]\n"
          ],
          "name": "stdout"
        }
      ]
    },
    {
      "cell_type": "code",
      "metadata": {
        "colab": {
          "base_uri": "https://localhost:8080/",
          "height": 269
        },
        "id": "IyzcYVqlA1yA",
        "outputId": "f42ffdfe-719b-4864-dc73-058a028a6106"
      },
      "source": [
        "_, ax = plt.subplots()\n",
        "ax.plot(np.arange(1,10),pca.explained_variance_ratio_*100)\n",
        "plt.show()"
      ],
      "execution_count": null,
      "outputs": [
        {
          "output_type": "display_data",
          "data": {
            "image/png": "[encoded data removed]",
            "text/plain": [
              "<Figure size 432x288 with 1 Axes>"
            ]
          },
          "metadata": {
            "tags": [],
            "needs_background": "light"
          }
        }
      ]
    },
    {
      "cell_type": "code",
      "metadata": {
        "id": "eywWe9yeA4bR"
      },
      "source": [
        "pcaData['Class'] = data_fillna_mean['Class'].copy()"
      ],
      "execution_count": null,
      "outputs": []
    },
    {
      "cell_type": "code",
      "metadata": {
        "colab": {
          "base_uri": "https://localhost:8080/",
          "height": 497
        },
        "id": "H8f7GYo0A79d",
        "outputId": "1d415d56-d1dc-4b1e-b504-a12f8fb7ad61"
      },
      "source": [
        "col1 = 'pc1'\n",
        "col2 = 'pc2'\n",
        "\n",
        "fig, ax = plt.subplots(figsize=(8,8))\n",
        "\n",
        "for glassType in pcaData['Class'].value_counts().index.values:\n",
        "  ax.scatter(pcaData[col1][ pcaData['Class']==glassType ],\n",
        "             pcaData[col2][ pcaData['Class']==glassType ],\n",
        "             label=glassType)\n",
        "\n",
        "ax.set_xlabel(col1)\n",
        "ax.set_ylabel(col2)\n",
        "ax.legend()\n",
        "\n",
        "plt.show()"
      ],
      "execution_count": null,
      "outputs": [
        {
          "output_type": "display_data",
          "data": {
            "image/png": "[encoded data removed]",
            "text/plain": [
              "<Figure size 576x576 with 1 Axes>"
            ]
          },
          "metadata": {
            "tags": [],
            "needs_background": "light"
          }
        }
      ]
    },
    {
      "cell_type": "code",
      "metadata": {
        "colab": {
          "base_uri": "https://localhost:8080/",
          "height": 466
        },
        "id": "DH31_L26A-e5",
        "outputId": "253ac9c5-a155-4d6a-d886-076d3b664335"
      },
      "source": [
        "col1 = 'pc1'\n",
        "col2 = 'pc2'\n",
        "\n",
        "fig = plt.figure(figsize=(8,8))\n",
        "ax = plt.axes(projection='3d')\n",
        "\n",
        "for glassType in pcaData['Class'].value_counts().index.values:\n",
        "  ax.scatter(pcaData['pc1'][ pcaData['Class']==glassType ], \n",
        "             pcaData['pc2'][ pcaData['Class']==glassType ], \n",
        "             pcaData['pc3'][ pcaData['Class']==glassType ],\n",
        "             label=glassType)\n",
        "\n",
        "ax.set_xlabel('pc1', fontsize=16)\n",
        "ax.set_ylabel('pc2', fontsize=16)\n",
        "ax.set_zlabel('pc3', fontsize=16)\n",
        "ax.legend()\n",
        "\n",
        "plt.show()"
      ],
      "execution_count": null,
      "outputs": [
        {
          "output_type": "display_data",
          "data": {
            "image/png": "[encoded data removed]",
            "text/plain": [
              "<Figure size 576x576 with 1 Axes>"
            ]
          },
          "metadata": {
            "tags": [],
            "needs_background": "light"
          }
        }
      ]
    },
    {
      "cell_type": "code",
      "metadata": {
        "colab": {
          "base_uri": "https://localhost:8080/",
          "height": 328
        },
        "id": "eb0VPvSbBAmp",
        "outputId": "1c3183a8-7bbe-4778-aa92-592645648c8c"
      },
      "source": [
        "corr = data_fillna_mean.corr()\n",
        "corr"
      ],
      "execution_count": null,
      "outputs": [
        {
          "output_type": "execute_result",
          "data": {
            "text/html": [
              "<div>\n",
              "<style scoped>\n",
              "    .dataframe tbody tr th:only-of-type {\n",
              "        vertical-align: middle;\n",
              "    }\n",
              "\n",
              "    .dataframe tbody tr th {\n",
              "        vertical-align: top;\n",
              "    }\n",
              "\n",
              "    .dataframe thead th {\n",
              "        text-align: right;\n",
              "    }\n",
              "</style>\n",
              "<table border=\"1\" class=\"dataframe\">\n",
              "  <thead>\n",
              "    <tr style=\"text-align: right;\">\n",
              "      <th></th>\n",
              "      <th>RI</th>\n",
              "      <th>Na</th>\n",
              "      <th>Mg</th>\n",
              "      <th>Al</th>\n",
              "      <th>Si</th>\n",
              "      <th>K</th>\n",
              "      <th>Ca</th>\n",
              "      <th>Ba</th>\n",
              "      <th>Fe</th>\n",
              "    </tr>\n",
              "  </thead>\n",
              "  <tbody>\n",
              "    <tr>\n",
              "      <th>RI</th>\n",
              "      <td>1.000000</td>\n",
              "      <td>-0.191885</td>\n",
              "      <td>-0.122274</td>\n",
              "      <td>-0.407326</td>\n",
              "      <td>-0.542052</td>\n",
              "      <td>-0.289833</td>\n",
              "      <td>0.810403</td>\n",
              "      <td>-0.000386</td>\n",
              "      <td>0.143010</td>\n",
              "    </tr>\n",
              "    <tr>\n",
              "      <th>Na</th>\n",
              "      <td>-0.191885</td>\n",
              "      <td>1.000000</td>\n",
              "      <td>-0.273732</td>\n",
              "      <td>0.156794</td>\n",
              "      <td>-0.069809</td>\n",
              "      <td>-0.266087</td>\n",
              "      <td>-0.275442</td>\n",
              "      <td>0.326603</td>\n",
              "      <td>-0.241346</td>\n",
              "    </tr>\n",
              "    <tr>\n",
              "      <th>Mg</th>\n",
              "      <td>-0.122274</td>\n",
              "      <td>-0.273732</td>\n",
              "      <td>1.000000</td>\n",
              "      <td>-0.481799</td>\n",
              "      <td>-0.165927</td>\n",
              "      <td>0.005396</td>\n",
              "      <td>-0.443750</td>\n",
              "      <td>-0.492262</td>\n",
              "      <td>0.083060</td>\n",
              "    </tr>\n",
              "    <tr>\n",
              "      <th>Al</th>\n",
              "      <td>-0.407326</td>\n",
              "      <td>0.156794</td>\n",
              "      <td>-0.481799</td>\n",
              "      <td>1.000000</td>\n",
              "      <td>-0.005524</td>\n",
              "      <td>0.325958</td>\n",
              "      <td>-0.259592</td>\n",
              "      <td>0.479404</td>\n",
              "      <td>-0.074402</td>\n",
              "    </tr>\n",
              "    <tr>\n",
              "      <th>Si</th>\n",
              "      <td>-0.542052</td>\n",
              "      <td>-0.069809</td>\n",
              "      <td>-0.165927</td>\n",
              "      <td>-0.005524</td>\n",
              "      <td>1.000000</td>\n",
              "      <td>-0.193331</td>\n",
              "      <td>-0.208732</td>\n",
              "      <td>-0.102151</td>\n",
              "      <td>-0.094201</td>\n",
              "    </tr>\n",
              "    <tr>\n",
              "      <th>K</th>\n",
              "      <td>-0.289833</td>\n",
              "      <td>-0.266087</td>\n",
              "      <td>0.005396</td>\n",
              "      <td>0.325958</td>\n",
              "      <td>-0.193331</td>\n",
              "      <td>1.000000</td>\n",
              "      <td>-0.317836</td>\n",
              "      <td>-0.042618</td>\n",
              "      <td>-0.007719</td>\n",
              "    </tr>\n",
              "    <tr>\n",
              "      <th>Ca</th>\n",
              "      <td>0.810403</td>\n",
              "      <td>-0.275442</td>\n",
              "      <td>-0.443750</td>\n",
              "      <td>-0.259592</td>\n",
              "      <td>-0.208732</td>\n",
              "      <td>-0.317836</td>\n",
              "      <td>1.000000</td>\n",
              "      <td>-0.112841</td>\n",
              "      <td>0.124968</td>\n",
              "    </tr>\n",
              "    <tr>\n",
              "      <th>Ba</th>\n",
              "      <td>-0.000386</td>\n",
              "      <td>0.326603</td>\n",
              "      <td>-0.492262</td>\n",
              "      <td>0.479404</td>\n",
              "      <td>-0.102151</td>\n",
              "      <td>-0.042618</td>\n",
              "      <td>-0.112841</td>\n",
              "      <td>1.000000</td>\n",
              "      <td>-0.058692</td>\n",
              "    </tr>\n",
              "    <tr>\n",
              "      <th>Fe</th>\n",
              "      <td>0.143010</td>\n",
              "      <td>-0.241346</td>\n",
              "      <td>0.083060</td>\n",
              "      <td>-0.074402</td>\n",
              "      <td>-0.094201</td>\n",
              "      <td>-0.007719</td>\n",
              "      <td>0.124968</td>\n",
              "      <td>-0.058692</td>\n",
              "      <td>1.000000</td>\n",
              "    </tr>\n",
              "  </tbody>\n",
              "</table>\n",
              "</div>"
            ],
            "text/plain": [
              "          RI        Na        Mg  ...        Ca        Ba        Fe\n",
              "RI  1.000000 -0.191885 -0.122274  ...  0.810403 -0.000386  0.143010\n",
              "Na -0.191885  1.000000 -0.273732  ... -0.275442  0.326603 -0.241346\n",
              "Mg -0.122274 -0.273732  1.000000  ... -0.443750 -0.492262  0.083060\n",
              "Al -0.407326  0.156794 -0.481799  ... -0.259592  0.479404 -0.074402\n",
              "Si -0.542052 -0.069809 -0.165927  ... -0.208732 -0.102151 -0.094201\n",
              "K  -0.289833 -0.266087  0.005396  ... -0.317836 -0.042618 -0.007719\n",
              "Ca  0.810403 -0.275442 -0.443750  ...  1.000000 -0.112841  0.124968\n",
              "Ba -0.000386  0.326603 -0.492262  ... -0.112841  1.000000 -0.058692\n",
              "Fe  0.143010 -0.241346  0.083060  ...  0.124968 -0.058692  1.000000\n",
              "\n",
              "[9 rows x 9 columns]"
            ]
          },
          "metadata": {
            "tags": []
          },
          "execution_count": 56
        }
      ]
    },
    {
      "cell_type": "code",
      "metadata": {
        "colab": {
          "base_uri": "https://localhost:8080/",
          "height": 611
        },
        "id": "sEoi-u5vBCss",
        "outputId": "a7e7456f-210a-4b28-b7da-c15d9d8d48b4"
      },
      "source": [
        "plt.figure(figsize=(12, 10))\n",
        "\n",
        "ax = sns.heatmap(corr, annot=True, vmax=1, vmin=-1, cmap='gist_rainbow')\n",
        "\n",
        "ax.set_title('Корреляции вещественных переменных', fontsize=18)\n",
        "\n",
        "plt.show()"
      ],
      "execution_count": null,
      "outputs": [
        {
          "output_type": "display_data",
          "data": {
            "image/png": "[encoded data removed]",
            "text/plain": [
              "<Figure size 864x720 with 2 Axes>"
            ]
          },
          "metadata": {
            "tags": [],
            "needs_background": "light"
          }
        }
      ]
    },
    {
      "cell_type": "code",
      "metadata": {
        "colab": {
          "base_uri": "https://localhost:8080/",
          "height": 633
        },
        "id": "I_x7jWrjBEjB",
        "outputId": "33e02ee9-8299-444e-8aae-5f27fe03e03d"
      },
      "source": [
        "plt.figure (figsize=(12,10))\n",
        "ax = sns.heatmap (corr[(corr >= 0.75)|(corr <=-0.75)], annot=True, vmax=1, vmin=-1, cmap='gist_rainbow')\n",
        "ax.set_title('Сильная корреляция', fontsize=25)\n",
        "plt.show"
      ],
      "execution_count": null,
      "outputs": [
        {
          "output_type": "execute_result",
          "data": {
            "text/plain": [
              "<function matplotlib.pyplot.show>"
            ]
          },
          "metadata": {
            "tags": []
          },
          "execution_count": 58
        },
        {
          "output_type": "display_data",
          "data": {
            "image/png": "[encoded data removed]",
            "text/plain": [
              "<Figure size 864x720 with 2 Axes>"
            ]
          },
          "metadata": {
            "tags": [],
            "needs_background": "light"
          }
        }
      ]
    },
    {
      "cell_type": "code",
      "metadata": {
        "colab": {
          "base_uri": "https://localhost:8080/",
          "height": 633
        },
        "id": "7Kki1X2FBGby",
        "outputId": "15d173db-f26a-4095-b3fd-9a52f38af40c"
      },
      "source": [
        "plt.figure (figsize=(12,10))\n",
        "ax = sns.heatmap (corr[(corr<=0.75)&(corr>=0.45)|(corr<=-0.45)&(corr>=-0.75)], annot=True, vmax=1, vmin=-1, cmap='gist_rainbow')\n",
        "ax.set_title('Средняя корреляция', fontsize=25)\n",
        "plt.show"
      ],
      "execution_count": null,
      "outputs": [
        {
          "output_type": "execute_result",
          "data": {
            "text/plain": [
              "<function matplotlib.pyplot.show>"
            ]
          },
          "metadata": {
            "tags": []
          },
          "execution_count": 59
        },
        {
          "output_type": "display_data",
          "data": {
            "image/png": "[encoded data removed]",
            "text/plain": [
              "<Figure size 864x720 with 2 Axes>"
            ]
          },
          "metadata": {
            "tags": [],
            "needs_background": "light"
          }
        }
      ]
    },
    {
      "cell_type": "code",
      "metadata": {
        "id": "YaqzWOeGBHxg"
      },
      "source": [
        "plt.figure (figsize=(12,10))\n",
        "ax = sns.heatmap (corr[(corr<=0.45)&(corr>=0.25)|(corr<=-0.25)&(corr>=-0.45)], annot=True, vmax=1, vmin=-1, cmap='gist_rainbow')\n",
        "ax.set_title('Слабая корреляция', fontsize=25)\n",
        "plt.show"
      ],
      "execution_count": null,
      "outputs": []
    }
  ]
}